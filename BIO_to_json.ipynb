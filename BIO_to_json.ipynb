{
  "nbformat": 4,
  "nbformat_minor": 0,
  "metadata": {
    "colab": {
      "provenance": []
    },
    "kernelspec": {
      "name": "python3",
      "display_name": "Python 3"
    },
    "language_info": {
      "name": "python"
    }
  },
  "cells": [
    {
      "cell_type": "code",
      "execution_count": null,
      "metadata": {
        "id": "AoFne9hRltOa"
      },
      "outputs": [],
      "source": [
        "import json\n",
        "\n",
        "input_file_path = \"/content/test.txt\"\n",
        "output_file_path = \"/content/impacts-test.json\"\n",
        "\n",
        "json_lines = []\n",
        "current_text = []\n",
        "current_labels = []\n",
        "\n",
        "# Process files in BIO format\n",
        "with open(input_file_path, \"r\") as infile:\n",
        "    for line in infile:\n",
        "        line = line.strip()\n",
        "        if line:  # If the line is not empty, process i\n",
        "            parts = line.split()\n",
        "            if len(parts) == 2:\n",
        "                token, label = parts\n",
        "                current_text.append(token)\n",
        "                current_labels.append(label)\n",
        "        else:  # If the line is empty, it indicates the end of a sentence\n",
        "            if current_text and current_labels:  # Write only if there is content\n",
        "                json_line = {\"text\": current_text, \"label\": current_labels}\n",
        "                json_lines.append(json_line)\n",
        "                # Reset content for the next sentence\n",
        "                current_text = []\n",
        "                current_labels = []\n",
        "\n",
        "    # Ensure the last sentence not ended by an empty line is captured\n",
        "    if current_text and current_labels:\n",
        "        json_line = {\"text\": current_text, \"label\": current_labels}\n",
        "        json_lines.append(json_line)\n",
        "\n",
        "# Write JSON lines to the output file (JSONL format)\n",
        "with open(output_file_path, \"w\") as outfile:\n",
        "    for json_line in json_lines:\n",
        "        outfile.write(json.dumps(json_line) + \"\\n\")\n",
        "\n",
        "print(\"Conversion completed, output file path:\", output_file_path)\n"
      ]
    }
  ]
}