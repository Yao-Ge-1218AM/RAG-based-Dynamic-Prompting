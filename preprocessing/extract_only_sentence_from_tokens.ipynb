{
  "nbformat": 4,
  "nbformat_minor": 0,
  "metadata": {
    "colab": {
      "provenance": []
    },
    "kernelspec": {
      "name": "python3",
      "display_name": "Python 3"
    },
    "language_info": {
      "name": "python"
    }
  },
  "cells": [
    {
      "cell_type": "code",
      "source": [
        "import re\n",
        "\n",
        "# Define a function to clean and process each line\n",
        "def clean_and_process_line(line):\n",
        "    # Use regular expressions to remove extra quotes, commas, brackets, etc.\n",
        "    cleaned_line = re.sub(r\"[',\\[\\]]\", '', line.strip())\n",
        "    # Split the cleaned line into tokens and combine them into a sentence\n",
        "    tokens = cleaned_line.split()\n",
        "    return ' '.join(tokens)\n",
        "\n",
        "# Input file path (replace with your own file path)\n",
        "input_file_path = '/content/test_texts.txt'\n",
        "\n",
        "# Output file path\n",
        "output_file_path = '/content/only_sentences_impacts_test.txt'\n",
        "\n",
        "# Open the input file and output file, process each line, and write it to the output file\n",
        "with open(input_file_path, 'r') as file, open(output_file_path, 'w') as output_file:\n",
        "    for line in file:\n",
        "        sentence = clean_and_process_line(line)\n",
        "        output_file.write(sentence + '\\n')\n",
        "\n",
        "print(f\"Processing complete, output file saved to {output_file_path}\")\n"
      ],
      "metadata": {
        "id": "44TaSKD2272p"
      },
      "execution_count": null,
      "outputs": []
    }
  ]
}
