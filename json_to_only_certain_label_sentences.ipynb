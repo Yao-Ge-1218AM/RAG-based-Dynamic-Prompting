{
  "nbformat": 4,
  "nbformat_minor": 0,
  "metadata": {
    "colab": {
      "provenance": []
    },
    "kernelspec": {
      "name": "python3",
      "display_name": "Python 3"
    },
    "language_info": {
      "name": "python"
    }
  },
  "cells": [
    {
      "cell_type": "code",
      "source": [
        "import json\n",
        "\n",
        "# input\n",
        "file_path = \"/content/train_dev.json\"\n",
        "# output\n",
        "output_file_path = \"/content/filtered_sentences_only_impacts_traind_dev.txt\"\n",
        "chemical_sentences = []\n",
        "\n",
        "# Read the file and extract sentences containing the 'Clinical Impacts' label\n",
        "with open(file_path, 'r') as file:\n",
        "    for line in file:\n",
        "        entry = json.loads(line)\n",
        "        if any(\"Clinical Impacts\" in label for label in entry[\"label\"]):\n",
        "            chemical_sentences.append(\" \".join(entry[\"text\"]))\n",
        "\n",
        "with open(output_file_path, 'w') as output_file:\n",
        "    for sentence in chemical_sentences:\n",
        "        output_file.write(sentence + \"\\n\")\n"
      ],
      "metadata": {
        "id": "kzxPm2ddWTPz"
      },
      "execution_count": null,
      "outputs": []
    }
  ]
}